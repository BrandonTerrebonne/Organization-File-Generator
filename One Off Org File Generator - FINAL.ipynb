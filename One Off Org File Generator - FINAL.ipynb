{
 "cells": [
  {
   "cell_type": "code",
   "execution_count": 14,
   "metadata": {
    "collapsed": false
   },
   "outputs": [
    {
     "name": "stdout",
     "output_type": "stream",
     "text": [
      "Imports Complete. We'll start by reading the file.\n"
     ]
    }
   ],
   "source": [
    "# -*- coding: utf-8 -*-\n",
    "# ^^Defining Source Code Encoding\n",
    "\n",
    "# Import modules into namespace\n",
    "import pandas as pd\n",
    "import numpy as np\n",
    "import datetime\n",
    "\n",
    "print \"Imports Complete. We'll start by reading the file.\""
   ]
  },
  {
   "cell_type": "code",
   "execution_count": 15,
   "metadata": {
    "collapsed": false,
    "scrolled": true
   },
   "outputs": [
    {
     "name": "stdout",
     "output_type": "stream",
     "text": [
      "'Albertsons_WHSpend_Purchase_by_week_2015_fixed.xlsx' is now loaded.\n",
      "\n",
      "Next, we'll map the data...\n"
     ]
    }
   ],
   "source": [
    "# Read xlsx doc\n",
    "filepath = r'C:\\Users\\brandon.terrebonne\\Desktop\\\\Albertsons_WHSpend_Purchase_by_week_2015_fixed.xlsx'\n",
    "df = pd.read_excel(filepath)\n",
    "\n",
    "slash = filepath.rfind('\\\\')\n",
    "filename = filepath[slash+1:]\n",
    "\n",
    "print \"'%s' is now loaded.\\n\\nNext, we'll map the data...\" % (filename)"
   ]
  },
  {
   "cell_type": "code",
   "execution_count": 16,
   "metadata": {
    "collapsed": false,
    "scrolled": false
   },
   "outputs": [
    {
     "name": "stdout",
     "output_type": "stream",
     "text": [
      "Match the following ESLAP feilds with the original file's feild names:\n",
      "\n",
      "company_id = VENDOR NUMBER\n",
      "company_name = NAME\n",
      "address_1 = \n",
      "address_2 = \n",
      "city = \n",
      "state = \n",
      "postal_code = \n",
      "country = \n",
      "tax_id = \n",
      "reserve_percentage = \n",
      "reserve_amount = \n",
      "reserve_invoice_priority = \n",
      "reserve_before_adjustments = \n",
      "\n",
      "Columns are now mapped.\n",
      "\n",
      "Running the next cell will rename the columns and prep the data for export.\n"
     ]
    }
   ],
   "source": [
    "# Add missing columns, which will now have null values\n",
    "print \"Match the following ESLAP feilds with the original file's feild names:\\n\"\n",
    "choice_company_id = raw_input('company_id = ')\n",
    "if choice_company_id == \"\":\n",
    "    choice_company_id = \"company_id\"\n",
    "choice_company_name = raw_input('company_name = ')\n",
    "if choice_company_name == \"\":\n",
    "    choice_company_name = \"company_name\"\n",
    "choice_address_1 = raw_input('address_1 = ')\n",
    "if choice_address_1 == \"\":\n",
    "    choice_address_1 = \"address_1\"\n",
    "choice_address_2 = raw_input('address_2 = ')\n",
    "if choice_address_2 == \"\":\n",
    "    choice_address_2 = \"address_2\"\n",
    "choice_city = raw_input('city = ')\n",
    "if choice_city == \"\":\n",
    "    choice_city = \"city\"\n",
    "choice_state = raw_input('state = ')\n",
    "if choice_state == \"\":\n",
    "    choice_state = \"state\"\n",
    "choice_postal_code = raw_input('postal_code = ')\n",
    "if choice_postal_code == \"\":\n",
    "    choice_postal_code = \"postal_code\"\n",
    "choice_country = raw_input('country = ')\n",
    "if choice_country == \"\":\n",
    "    choice_country = \"country\"\n",
    "choice_tax_id = raw_input('tax_id = ')\n",
    "if choice_tax_id == \"\":\n",
    "    choice_tax_id = \"tax_id\"\n",
    "choice_reserve_percentage = raw_input('reserve_percentage = ')\n",
    "if choice_reserve_percentage == \"\":\n",
    "    choice_reserve_percentage = \"reserve_percentage\"\n",
    "choice_reserve_amount = raw_input('reserve_amount = ')\n",
    "if choice_reserve_amount == \"\":\n",
    "    choice_reserve_amount = \"reserve_amount\"\n",
    "choice_reserve_invoice_priority = raw_input('reserve_invoice_priority = ')\n",
    "if choice_reserve_invoice_priority == \"\":\n",
    "    choice_reserve_invoice_priority = \"reserve_invoice_priority\"\n",
    "choice_reserve_before_adjustments = raw_input('reserve_before_adjustments = ')\n",
    "if choice_reserve_before_adjustments == \"\":\n",
    "    choice_reserve_before_adjustments = \"reserve_before_adjustments\"\n",
    "\n",
    "df2 = pd.DataFrame(df,columns=[choice_company_id, choice_company_name, choice_address_1, choice_address_2,\n",
    "                               choice_city, choice_state, choice_postal_code, choice_country,\n",
    "                               choice_tax_id, choice_reserve_percentage, choice_reserve_amount, \n",
    "                               choice_reserve_invoice_priority, choice_reserve_before_adjustments])\n",
    "    \n",
    "print \"\\nColumns are now mapped.\\n\\nRunning the next cell will rename the columns and prep the data for export.\""
   ]
  },
  {
   "cell_type": "code",
   "execution_count": 17,
   "metadata": {
    "collapsed": false
   },
   "outputs": [
    {
     "name": "stdout",
     "output_type": "stream",
     "text": [
      "Columns renamed and data prepped!\n",
      "\n",
      "Finally, we'll take care of leading zeros...\n"
     ]
    }
   ],
   "source": [
    "# Rename columns\n",
    "old_names = [choice_company_id, choice_company_name, choice_address_1, choice_address_2,\n",
    "            choice_city, choice_state, choice_postal_code, choice_country,\n",
    "            choice_tax_id, choice_reserve_percentage, choice_reserve_amount, \n",
    "            choice_reserve_invoice_priority, choice_reserve_before_adjustments]\n",
    "new_names = ['company_id','company_name','address_1','address_2',\n",
    "            'city', 'state', 'postal_code','country','tax_id','reserve_percentage',\n",
    "            'reserve_amount','reserve_invoice_priority','reserve_before_adjustments']\n",
    "\n",
    "df2.rename(columns=dict(zip(old_names, new_names)), inplace=True)\n",
    "\n",
    "# DF NAME CHANGE\n",
    "df3 = df2\n",
    "\n",
    "### Cleaning company_id ###\n",
    "\n",
    "# Strip leading/trailing spaces\n",
    "def strip(text):\n",
    "    try:\n",
    "        return text.strip()\n",
    "    except AttributeError:\n",
    "        return text\n",
    "\n",
    "df3['company_id'] = strip(df3['company_id'])\n",
    "\n",
    "# Replace NaN with blanks, maintain preexisting float\n",
    "def check_type(x):\n",
    "    p = x.split('.')\n",
    "    try:\n",
    "        if x == '11111111111111111111':\n",
    "            y = np.nan\n",
    "        elif float(x) / float(p[0]) > 1.0:\n",
    "                y = x\n",
    "        else:\n",
    "            y = p[0]\n",
    "    except ValueError:\n",
    "        y = x\n",
    "    return y\n",
    "\n",
    "df3['company_id'] = df3['company_id'].fillna(11111111111111111111)\n",
    "df3['company_id'] = df3['company_id'].astype(str)\n",
    "df3['company_id'] = df3['company_id'].map(check_type)\n",
    "df3['company_id'] = df3['company_id'].replace('11111111111111111111', '')\n",
    "\n",
    "### Cleaning reserves###\n",
    "def filling(column):\n",
    "    new_column = []\n",
    "    for item in column:\n",
    "        if item == '22222222222222222222':\n",
    "            item = np.nan\n",
    "            new_column.append(item)\n",
    "        else:\n",
    "            item = float(item)\n",
    "            item = (\"{0:.2f}\".format(round(item,2)))\n",
    "            new_column.append(item)\n",
    "    return new_column\n",
    "\n",
    "df3['reserve_amount'] = df3['reserve_amount'].fillna(value=22222222222222222222)\n",
    "df3['reserve_amount'] = df3['reserve_amount'].astype(str)\n",
    "df3['reserve_amount'] = filling(df3['reserve_amount'])\n",
    "df3.fillna(value=\"\", inplace=True)\n",
    "\n",
    "# PRINT\n",
    "print \"Columns renamed and data prepped!\\n\\nFinally, we'll take care of leading zeros...\""
   ]
  },
  {
   "cell_type": "code",
   "execution_count": 18,
   "metadata": {
    "collapsed": false
   },
   "outputs": [
    {
     "name": "stdout",
     "output_type": "stream",
     "text": [
      "If company_id has leading zeros, input the field length (otherwise just hit enter): \n",
      "So let's talk about this... Do you REALLY want to include reserve information in this file (Yes or No):No\n",
      "\n",
      "Your file excludes reserve information and is now ready!\n"
     ]
    }
   ],
   "source": [
    "### Add leading zeros ###\n",
    "\n",
    "def leading(x, y):\n",
    "    new_id = []\n",
    "    field_length = int(y)\n",
    "    for item in x:\n",
    "        try:\n",
    "            leng = field_length - len(str(item))\n",
    "            if len(str(item)) < 1:\n",
    "                new_id.append(item)\n",
    "            elif len(str(item)) < field_length:\n",
    "                item2 = str(\"00000000000000000000\")\n",
    "                item3 = \"\"\n",
    "                item3 = str(item2[0:leng]) + str(item)\n",
    "                new_id.append(item3)\n",
    "            else:\n",
    "                new_id.append(item)\n",
    "        except:\n",
    "            new_id.append(item)\n",
    "    return new_id\n",
    "\n",
    "# User input 1\n",
    "choice_company_id_leading = raw_input('If company_id has leading zeros, input the field length (otherwise just hit enter): ')\n",
    "\n",
    "# DF NAME CHANGE\n",
    "df4 = df3\n",
    "\n",
    "if choice_company_id_leading != \"\":\n",
    "    df4['company_id'] = leading(df4['company_id'], choice_company_id_leading)\n",
    "else:\n",
    "    df4['company_id'] = df4['company_id']\n",
    "\n",
    "# New DF if user does not require reserve info\n",
    "df5 = pd.DataFrame(df4, columns=['company_id','company_name','address_1','address_2',\n",
    "            'city', 'state', 'postal_code','country','tax_id'])\n",
    "\n",
    "# User input 2, Save data to CSV\n",
    "while True:\n",
    "    choice_reserve = raw_input('So let\\'s talk about this... Do you REALLY want to include reserve information in this file (Yes or No):')\n",
    "    if choice_reserve.lower() == 'yes':\n",
    "        df4.to_csv(r'C:\\Users\\brandon.terrebonne\\Desktop\\albertsons_organization_manual_dsd_20160622.csv', sep=',', index=False, encoding='utf-8')\n",
    "        print \"\\nYour file includes reserve information and is now ready!\\nDisclaimer: This file will override current supplier-level reserves!!!\"\n",
    "        break\n",
    "    if choice_reserve.lower() == 'no':\n",
    "        df5.to_csv(r'C:\\Users\\brandon.terrebonne\\Desktop\\albertsons_organization_manual_dsd_fixed_20160622.csv', sep=',', index=False, encoding='utf-8')\n",
    "        print \"\\nYour file excludes reserve information and is now ready!\"\n",
    "        break\n",
    "    else:\n",
    "        print \"\\nOh goodness... \\'%s\\' is not a valid response. Please answer with either \\'Yes\\' or \\'No\\'.\" % (choice_reserve)\n",
    "        continue"
   ]
  },
  {
   "cell_type": "code",
   "execution_count": 11,
   "metadata": {
    "collapsed": false
   },
   "outputs": [],
   "source": [
    "# def clean_text(row):\n",
    "#     return [r.decode('unicode_escape').encode('ascii', 'ignore') for r in row]\n",
    "\n",
    "# df5['company_name'] = df5.apply(clean_text)\n",
    "\n",
    "df5['company_name'] = df5.company_name.str.replace('[^\\x00-\\x7F]','')"
   ]
  },
  {
   "cell_type": "code",
   "execution_count": 12,
   "metadata": {
    "collapsed": false
   },
   "outputs": [
    {
     "data": {
      "text/html": [
       "<div style=\"max-height:1000px;max-width:1500px;overflow:auto;\">\n",
       "<table border=\"1\" class=\"dataframe\">\n",
       "  <thead>\n",
       "    <tr style=\"text-align: right;\">\n",
       "      <th></th>\n",
       "      <th>company_id</th>\n",
       "      <th>company_name</th>\n",
       "      <th>address_1</th>\n",
       "      <th>address_2</th>\n",
       "      <th>city</th>\n",
       "      <th>state</th>\n",
       "      <th>postal_code</th>\n",
       "      <th>country</th>\n",
       "      <th>tax_id</th>\n",
       "    </tr>\n",
       "  </thead>\n",
       "  <tbody>\n",
       "    <tr>\n",
       "      <th>1854</th>\n",
       "      <td> M101SN026752</td>\n",
       "      <td> Fittings Division Ltd</td>\n",
       "      <td> 91 Brick Lane</td>\n",
       "      <td> London</td>\n",
       "      <td> 0</td>\n",
       "      <td> </td>\n",
       "      <td> E1 6QL</td>\n",
       "      <td> GB</td>\n",
       "      <td> 835490709</td>\n",
       "    </tr>\n",
       "  </tbody>\n",
       "</table>\n",
       "</div>"
      ],
      "text/plain": [
       "        company_id           company_name      address_1 address_2 city state  \\\n",
       "1854  M101SN026752  Fittings Division Ltd  91 Brick Lane    London    0         \n",
       "\n",
       "     postal_code country     tax_id  \n",
       "1854      E1 6QL      GB  835490709  "
      ]
     },
     "execution_count": 12,
     "metadata": {},
     "output_type": "execute_result"
    }
   ],
   "source": [
    "df5[(df5['company_id'] == 'M101SN026752')]"
   ]
  },
  {
   "cell_type": "code",
   "execution_count": 13,
   "metadata": {
    "collapsed": true
   },
   "outputs": [],
   "source": [
    "df5.to_csv(r'C:\\Users\\brandon.terrebonne\\Desktop\\mothercare_organisation_test.csv', sep=',', index=False, encoding='utf-8')"
   ]
  },
  {
   "cell_type": "code",
   "execution_count": null,
   "metadata": {
    "collapsed": false
   },
   "outputs": [],
   "source": [
    "#### Appendix ####\n",
    "\n",
    "# Leading zero question: Validation Rules and Exceptions \n",
    "while True:\n",
    "    choice_company_id_leading = raw_input('If company_id has leading zeros, input the field length as an integer (otherwise just hit enter): ')\n",
    "    if choice_company_id_leading == \"\":\n",
    "         break\n",
    "    elif isinstance(choice_company_id_leading, ( int, long ) ):\n",
    "        break\n",
    "        choice_company_id_leading = int(raw_input('If company_id has leading zeros, input the field length (otherwise just hit enter): '))\n",
    "    else:\n",
    "        print \"Yeah, that answer's not gonna work. Let's try again...\"\n",
    "        continue"
   ]
  },
  {
   "cell_type": "code",
   "execution_count": 105,
   "metadata": {
    "collapsed": false
   },
   "outputs": [
    {
     "ename": "ValueError",
     "evalue": "could not convert string to float: ",
     "output_type": "error",
     "traceback": [
      "\u001b[1;31m---------------------------------------------------------------------------\u001b[0m",
      "\u001b[1;31mValueError\u001b[0m                                Traceback (most recent call last)",
      "\u001b[1;32m<ipython-input-105-e2bc58104d46>\u001b[0m in \u001b[0;36m<module>\u001b[1;34m()\u001b[0m\n\u001b[0;32m     42\u001b[0m \u001b[0mdf3\u001b[0m\u001b[1;33m[\u001b[0m\u001b[1;34m'reserve_percentage'\u001b[0m\u001b[1;33m]\u001b[0m \u001b[1;33m=\u001b[0m \u001b[0mdf3\u001b[0m\u001b[1;33m[\u001b[0m\u001b[1;34m'reserve_percentage'\u001b[0m\u001b[1;33m]\u001b[0m\u001b[1;33m.\u001b[0m\u001b[0mfillna\u001b[0m\u001b[1;33m(\u001b[0m\u001b[0mvalue\u001b[0m\u001b[1;33m=\u001b[0m\u001b[1;36m22222222222222222222\u001b[0m\u001b[1;33m)\u001b[0m\u001b[1;33m\u001b[0m\u001b[0m\n\u001b[0;32m     43\u001b[0m \u001b[0mdf3\u001b[0m\u001b[1;33m[\u001b[0m\u001b[1;34m'reserve_percentage'\u001b[0m\u001b[1;33m]\u001b[0m \u001b[1;33m=\u001b[0m \u001b[0mdf3\u001b[0m\u001b[1;33m[\u001b[0m\u001b[1;34m'reserve_percentage'\u001b[0m\u001b[1;33m]\u001b[0m\u001b[1;33m.\u001b[0m\u001b[0mastype\u001b[0m\u001b[1;33m(\u001b[0m\u001b[0mstr\u001b[0m\u001b[1;33m)\u001b[0m\u001b[1;33m\u001b[0m\u001b[0m\n\u001b[1;32m---> 44\u001b[1;33m \u001b[0mdf3\u001b[0m\u001b[1;33m[\u001b[0m\u001b[1;34m'reserve_percentage'\u001b[0m\u001b[1;33m]\u001b[0m \u001b[1;33m=\u001b[0m \u001b[0mfilling\u001b[0m\u001b[1;33m(\u001b[0m\u001b[0mdf3\u001b[0m\u001b[1;33m[\u001b[0m\u001b[1;34m'reserve_percentage'\u001b[0m\u001b[1;33m]\u001b[0m\u001b[1;33m,\u001b[0m \u001b[1;36m0\u001b[0m\u001b[1;33m)\u001b[0m\u001b[1;33m\u001b[0m\u001b[0m\n\u001b[0m\u001b[0;32m     45\u001b[0m \u001b[1;31m#df3['reserve_amount'] = df3['reserve_amount'].astype(str)\u001b[0m\u001b[1;33m\u001b[0m\u001b[1;33m\u001b[0m\u001b[0m\n\u001b[0;32m     46\u001b[0m \u001b[1;31m#df3['reserve_amount'] = df3['reserve_amount'].replace('22222222222222222222','')\u001b[0m\u001b[1;33m\u001b[0m\u001b[1;33m\u001b[0m\u001b[0m\n",
      "\u001b[1;32m<ipython-input-105-e2bc58104d46>\u001b[0m in \u001b[0;36mfilling\u001b[1;34m(column, x)\u001b[0m\n\u001b[0;32m     33\u001b[0m             \u001b[0mnew_column\u001b[0m\u001b[1;33m.\u001b[0m\u001b[0mappend\u001b[0m\u001b[1;33m(\u001b[0m\u001b[0mitem\u001b[0m\u001b[1;33m)\u001b[0m\u001b[1;33m\u001b[0m\u001b[0m\n\u001b[0;32m     34\u001b[0m         \u001b[1;32melse\u001b[0m\u001b[1;33m:\u001b[0m\u001b[1;33m\u001b[0m\u001b[0m\n\u001b[1;32m---> 35\u001b[1;33m             \u001b[0mitem\u001b[0m \u001b[1;33m=\u001b[0m \u001b[0mfloat\u001b[0m\u001b[1;33m(\u001b[0m\u001b[0mitem\u001b[0m\u001b[1;33m)\u001b[0m\u001b[1;33m\u001b[0m\u001b[0m\n\u001b[0m\u001b[0;32m     36\u001b[0m             \u001b[0mitem\u001b[0m \u001b[1;33m=\u001b[0m \u001b[1;33m(\u001b[0m\u001b[1;34m\"{0:.xf}\"\u001b[0m\u001b[1;33m.\u001b[0m\u001b[0mformat\u001b[0m\u001b[1;33m(\u001b[0m\u001b[0mround\u001b[0m\u001b[1;33m(\u001b[0m\u001b[0mitem\u001b[0m\u001b[1;33m,\u001b[0m \u001b[1;36m2\u001b[0m\u001b[1;33m)\u001b[0m\u001b[1;33m)\u001b[0m\u001b[1;33m)\u001b[0m\u001b[1;33m\u001b[0m\u001b[0m\n\u001b[0;32m     37\u001b[0m             \u001b[0mnew_column\u001b[0m\u001b[1;33m.\u001b[0m\u001b[0mappend\u001b[0m\u001b[1;33m(\u001b[0m\u001b[0mitem\u001b[0m\u001b[1;33m)\u001b[0m\u001b[1;33m\u001b[0m\u001b[0m\n",
      "\u001b[1;31mValueError\u001b[0m: could not convert string to float: "
     ]
    }
   ],
   "source": [
    "# Rename columns\n",
    "old_names = [choice_company_id, choice_company_name, choice_address_1, choice_address_2,\n",
    "            choice_city, choice_state, choice_postal_code, choice_country,\n",
    "            choice_tax_id, choice_reserve_percentage, choice_reserve_amount, \n",
    "            choice_reserve_invoice_priority, choice_reserve_before_adjustments]\n",
    "new_names = ['company_id','company_name','address_1','address_2',\n",
    "            'city', 'state', 'postal_code','country','tax_id','reserve_percentage',\n",
    "            'reserve_amount','reserve_invoice_priority','reserve_before_adjustments']\n",
    "\n",
    "df2.rename(columns=dict(zip(old_names, new_names)), inplace=True)\n",
    "\n",
    "# DF NAME CHANGE\n",
    "df3 = df2\n",
    "\n",
    "# Strip leading spaces from company_id\n",
    "def strip(text):\n",
    "    try:\n",
    "        return text.strip()\n",
    "    except AttributeError:\n",
    "        return text\n",
    "\n",
    "df3['company_id'] = strip(df3['company_id'])\n",
    "\n",
    "\n",
    "#df3['reserve_amount'] = df3['reserve_amount'].fillna(value=22222222222222222222)\n",
    "#df3['reserve_amount'] = df3['reserve_amount'].astype(str)\n",
    "\n",
    "def filling(column,x):\n",
    "    new_column = []\n",
    "    for item in column:\n",
    "        if item == '22222222222222222222':\n",
    "            item = np.nan\n",
    "            new_column.append(item)\n",
    "        else:\n",
    "            item = float(item)\n",
    "            item = (\"{0:.xf}\".format(round(item, 2)))\n",
    "            new_column.append(item)\n",
    "    return new_column\n",
    "\n",
    "\n",
    "\n",
    "df3['reserve_percentage'] = df3['reserve_percentage'].fillna(value=22222222222222222222)\n",
    "df3['reserve_percentage'] = df3['reserve_percentage'].astype(str)\n",
    "df3['reserve_percentage'] = filling(df3['reserve_percentage'], 0)\n",
    "#df3['reserve_amount'] = df3['reserve_amount'].astype(str)\n",
    "#df3['reserve_amount'] = df3['reserve_amount'].replace('22222222222222222222','')\n",
    "df3.fillna(value=\"\", inplace=True)\n",
    "\n",
    "df3['reserve_percentage']\n"
   ]
  },
  {
   "cell_type": "code",
   "execution_count": 67,
   "metadata": {
    "collapsed": true
   },
   "outputs": [],
   "source": [
    "df3.to_csv(r'C:\\Users\\brandon.terrebonne\\Desktop\\test_org1.csv', sep=',', index=False, encoding='utf-8')"
   ]
  },
  {
   "cell_type": "code",
   "execution_count": 96,
   "metadata": {
    "collapsed": false
   },
   "outputs": [
    {
     "name": "stdout",
     "output_type": "stream",
     "text": [
      "10.00\n"
     ]
    }
   ],
   "source": [
    "item = 9.55\n",
    "item = (\"{0:.2f}\".format(round(item,0)))\n",
    "print item"
   ]
  },
  {
   "cell_type": "code",
   "execution_count": 104,
   "metadata": {
    "collapsed": false
   },
   "outputs": [
    {
     "name": "stdout",
     "output_type": "stream",
     "text": [
      "3\n"
     ]
    }
   ],
   "source": [
    "item2 = (\"{0:.0f}\".format(round(2.675, 2)))\n",
    "print item2"
   ]
  }
 ],
 "metadata": {
  "kernelspec": {
   "display_name": "Python 2",
   "language": "python",
   "name": "python2"
  },
  "language_info": {
   "codemirror_mode": {
    "name": "ipython",
    "version": 2
   },
   "file_extension": ".py",
   "mimetype": "text/x-python",
   "name": "python",
   "nbconvert_exporter": "python",
   "pygments_lexer": "ipython2",
   "version": "2.7.9"
  }
 },
 "nbformat": 4,
 "nbformat_minor": 0
}
